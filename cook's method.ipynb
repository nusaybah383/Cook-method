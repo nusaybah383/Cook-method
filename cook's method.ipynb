{
 "cells": [
  {
   "cell_type": "code",
   "execution_count": 1,
   "id": "ef836bfe",
   "metadata": {},
   "outputs": [],
   "source": [
    "import pandas as pd\n",
    "import numpy as np\n",
    "import statsmodels.formula.api as smf\n",
    "import matplotlib.pyplot as plt\n",
    "import statsmodels.graphics.correlation as sgc\n",
    "from statsmodels.graphics.gofplots import qqplot\n",
    "import statsmodels.stats.api as sms\n",
    "from statsmodels.stats.outliers_influence import OLSInfluence"
   ]
  },
  {
   "cell_type": "code",
   "execution_count": 2,
   "id": "e55f5c34",
   "metadata": {},
   "outputs": [],
   "source": [
    "filename = \"https://archive.ics.uci.edu/ml/machine-learning-databases/autos/imports-85.data\"\n",
    "\n",
    "headers = [\"symboling\",\"normalized-losses\",\"make\",\"fuel-type\",\"aspiration\", \"num-of-doors\",\"body-style\",\n",
    "         \"drive-wheels\",\"engine-location\",\"wheel-base\", \"length\",\"width\",\"height\",\"curb-weight\",\"engine-type\",\n",
    "         \"num-of-cylinders\", \"engine-size\",\"fuel-system\",\"bore\",\"stroke\",\"compression-ratio\",\"horsepower\",\n",
    "         \"peak-rpm\",\"city-mpg\",\"highway-mpg\",\"price\"]\n",
    "\n",
    "\n",
    "df = pd.read_csv(filename, names = headers)"
   ]
  },
  {
   "cell_type": "code",
   "execution_count": 3,
   "id": "903f27a8",
   "metadata": {},
   "outputs": [
    {
     "data": {
      "text/plain": [
       "Index(['symboling', 'normalized-losses', 'make', 'fuel-type', 'aspiration',\n",
       "       'num-of-doors', 'body-style', 'drive-wheels', 'engine-location',\n",
       "       'wheel-base', 'length', 'width', 'height', 'curb-weight', 'engine-type',\n",
       "       'num-of-cylinders', 'engine-size', 'fuel-system', 'bore', 'stroke',\n",
       "       'compression-ratio', 'horsepower', 'peak-rpm', 'city-mpg',\n",
       "       'highway-mpg', 'price'],\n",
       "      dtype='object')"
      ]
     },
     "execution_count": 3,
     "metadata": {},
     "output_type": "execute_result"
    }
   ],
   "source": [
    "df.columns"
   ]
  },
  {
   "cell_type": "code",
   "execution_count": 4,
   "id": "7334c033",
   "metadata": {},
   "outputs": [
    {
     "data": {
      "text/html": [
       "<div>\n",
       "<style scoped>\n",
       "    .dataframe tbody tr th:only-of-type {\n",
       "        vertical-align: middle;\n",
       "    }\n",
       "\n",
       "    .dataframe tbody tr th {\n",
       "        vertical-align: top;\n",
       "    }\n",
       "\n",
       "    .dataframe thead th {\n",
       "        text-align: right;\n",
       "    }\n",
       "</style>\n",
       "<table border=\"1\" class=\"dataframe\">\n",
       "  <thead>\n",
       "    <tr style=\"text-align: right;\">\n",
       "      <th></th>\n",
       "      <th>symboling</th>\n",
       "      <th>normalized-losses</th>\n",
       "      <th>make</th>\n",
       "      <th>fuel-type</th>\n",
       "      <th>aspiration</th>\n",
       "      <th>num-of-doors</th>\n",
       "      <th>body-style</th>\n",
       "      <th>drive-wheels</th>\n",
       "      <th>engine-location</th>\n",
       "      <th>wheel-base</th>\n",
       "      <th>...</th>\n",
       "      <th>engine-size</th>\n",
       "      <th>fuel-system</th>\n",
       "      <th>bore</th>\n",
       "      <th>stroke</th>\n",
       "      <th>compression-ratio</th>\n",
       "      <th>horsepower</th>\n",
       "      <th>peak-rpm</th>\n",
       "      <th>city-mpg</th>\n",
       "      <th>highway-mpg</th>\n",
       "      <th>price</th>\n",
       "    </tr>\n",
       "  </thead>\n",
       "  <tbody>\n",
       "    <tr>\n",
       "      <th>0</th>\n",
       "      <td>3</td>\n",
       "      <td>?</td>\n",
       "      <td>alfa-romero</td>\n",
       "      <td>gas</td>\n",
       "      <td>std</td>\n",
       "      <td>two</td>\n",
       "      <td>convertible</td>\n",
       "      <td>rwd</td>\n",
       "      <td>front</td>\n",
       "      <td>88.6</td>\n",
       "      <td>...</td>\n",
       "      <td>130</td>\n",
       "      <td>mpfi</td>\n",
       "      <td>3.47</td>\n",
       "      <td>2.68</td>\n",
       "      <td>9.0</td>\n",
       "      <td>111</td>\n",
       "      <td>5000</td>\n",
       "      <td>21</td>\n",
       "      <td>27</td>\n",
       "      <td>13495</td>\n",
       "    </tr>\n",
       "    <tr>\n",
       "      <th>1</th>\n",
       "      <td>3</td>\n",
       "      <td>?</td>\n",
       "      <td>alfa-romero</td>\n",
       "      <td>gas</td>\n",
       "      <td>std</td>\n",
       "      <td>two</td>\n",
       "      <td>convertible</td>\n",
       "      <td>rwd</td>\n",
       "      <td>front</td>\n",
       "      <td>88.6</td>\n",
       "      <td>...</td>\n",
       "      <td>130</td>\n",
       "      <td>mpfi</td>\n",
       "      <td>3.47</td>\n",
       "      <td>2.68</td>\n",
       "      <td>9.0</td>\n",
       "      <td>111</td>\n",
       "      <td>5000</td>\n",
       "      <td>21</td>\n",
       "      <td>27</td>\n",
       "      <td>16500</td>\n",
       "    </tr>\n",
       "    <tr>\n",
       "      <th>2</th>\n",
       "      <td>1</td>\n",
       "      <td>?</td>\n",
       "      <td>alfa-romero</td>\n",
       "      <td>gas</td>\n",
       "      <td>std</td>\n",
       "      <td>two</td>\n",
       "      <td>hatchback</td>\n",
       "      <td>rwd</td>\n",
       "      <td>front</td>\n",
       "      <td>94.5</td>\n",
       "      <td>...</td>\n",
       "      <td>152</td>\n",
       "      <td>mpfi</td>\n",
       "      <td>2.68</td>\n",
       "      <td>3.47</td>\n",
       "      <td>9.0</td>\n",
       "      <td>154</td>\n",
       "      <td>5000</td>\n",
       "      <td>19</td>\n",
       "      <td>26</td>\n",
       "      <td>16500</td>\n",
       "    </tr>\n",
       "  </tbody>\n",
       "</table>\n",
       "<p>3 rows × 26 columns</p>\n",
       "</div>"
      ],
      "text/plain": [
       "   symboling normalized-losses         make fuel-type aspiration num-of-doors  \\\n",
       "0          3                 ?  alfa-romero       gas        std          two   \n",
       "1          3                 ?  alfa-romero       gas        std          two   \n",
       "2          1                 ?  alfa-romero       gas        std          two   \n",
       "\n",
       "    body-style drive-wheels engine-location  wheel-base  ...  engine-size  \\\n",
       "0  convertible          rwd           front        88.6  ...          130   \n",
       "1  convertible          rwd           front        88.6  ...          130   \n",
       "2    hatchback          rwd           front        94.5  ...          152   \n",
       "\n",
       "   fuel-system  bore  stroke compression-ratio horsepower  peak-rpm city-mpg  \\\n",
       "0         mpfi  3.47    2.68               9.0        111      5000       21   \n",
       "1         mpfi  3.47    2.68               9.0        111      5000       21   \n",
       "2         mpfi  2.68    3.47               9.0        154      5000       19   \n",
       "\n",
       "  highway-mpg  price  \n",
       "0          27  13495  \n",
       "1          27  16500  \n",
       "2          26  16500  \n",
       "\n",
       "[3 rows x 26 columns]"
      ]
     },
     "execution_count": 4,
     "metadata": {},
     "output_type": "execute_result"
    }
   ],
   "source": [
    "df.head(3)"
   ]
  },
  {
   "cell_type": "code",
   "execution_count": 5,
   "id": "6edf5a11",
   "metadata": {},
   "outputs": [
    {
     "data": {
      "text/plain": [
       "(205, 26)"
      ]
     },
     "execution_count": 5,
     "metadata": {},
     "output_type": "execute_result"
    }
   ],
   "source": [
    "df.shape"
   ]
  },
  {
   "cell_type": "markdown",
   "id": "63e7054f",
   "metadata": {},
   "source": [
    "# Data Cleaning"
   ]
  },
  {
   "cell_type": "code",
   "execution_count": 6,
   "id": "30f572c9",
   "metadata": {},
   "outputs": [
    {
     "data": {
      "text/html": [
       "<div>\n",
       "<style scoped>\n",
       "    .dataframe tbody tr th:only-of-type {\n",
       "        vertical-align: middle;\n",
       "    }\n",
       "\n",
       "    .dataframe tbody tr th {\n",
       "        vertical-align: top;\n",
       "    }\n",
       "\n",
       "    .dataframe thead th {\n",
       "        text-align: right;\n",
       "    }\n",
       "</style>\n",
       "<table border=\"1\" class=\"dataframe\">\n",
       "  <thead>\n",
       "    <tr style=\"text-align: right;\">\n",
       "      <th></th>\n",
       "      <th>symboling</th>\n",
       "      <th>wheel-base</th>\n",
       "      <th>engine-size</th>\n",
       "      <th>bore</th>\n",
       "      <th>stroke</th>\n",
       "      <th>compression-ratio</th>\n",
       "      <th>horsepower</th>\n",
       "      <th>peak-rpm</th>\n",
       "      <th>city-mpg</th>\n",
       "      <th>highway-mpg</th>\n",
       "      <th>price</th>\n",
       "    </tr>\n",
       "  </thead>\n",
       "  <tbody>\n",
       "    <tr>\n",
       "      <th>0</th>\n",
       "      <td>3</td>\n",
       "      <td>88.6</td>\n",
       "      <td>130</td>\n",
       "      <td>3.47</td>\n",
       "      <td>2.68</td>\n",
       "      <td>9.0</td>\n",
       "      <td>111</td>\n",
       "      <td>5000</td>\n",
       "      <td>21</td>\n",
       "      <td>27</td>\n",
       "      <td>13495</td>\n",
       "    </tr>\n",
       "    <tr>\n",
       "      <th>1</th>\n",
       "      <td>3</td>\n",
       "      <td>88.6</td>\n",
       "      <td>130</td>\n",
       "      <td>3.47</td>\n",
       "      <td>2.68</td>\n",
       "      <td>9.0</td>\n",
       "      <td>111</td>\n",
       "      <td>5000</td>\n",
       "      <td>21</td>\n",
       "      <td>27</td>\n",
       "      <td>16500</td>\n",
       "    </tr>\n",
       "    <tr>\n",
       "      <th>2</th>\n",
       "      <td>1</td>\n",
       "      <td>94.5</td>\n",
       "      <td>152</td>\n",
       "      <td>2.68</td>\n",
       "      <td>3.47</td>\n",
       "      <td>9.0</td>\n",
       "      <td>154</td>\n",
       "      <td>5000</td>\n",
       "      <td>19</td>\n",
       "      <td>26</td>\n",
       "      <td>16500</td>\n",
       "    </tr>\n",
       "    <tr>\n",
       "      <th>3</th>\n",
       "      <td>2</td>\n",
       "      <td>99.8</td>\n",
       "      <td>109</td>\n",
       "      <td>3.19</td>\n",
       "      <td>3.40</td>\n",
       "      <td>10.0</td>\n",
       "      <td>102</td>\n",
       "      <td>5500</td>\n",
       "      <td>24</td>\n",
       "      <td>30</td>\n",
       "      <td>13950</td>\n",
       "    </tr>\n",
       "    <tr>\n",
       "      <th>4</th>\n",
       "      <td>2</td>\n",
       "      <td>99.4</td>\n",
       "      <td>136</td>\n",
       "      <td>3.19</td>\n",
       "      <td>3.40</td>\n",
       "      <td>8.0</td>\n",
       "      <td>115</td>\n",
       "      <td>5500</td>\n",
       "      <td>18</td>\n",
       "      <td>22</td>\n",
       "      <td>17450</td>\n",
       "    </tr>\n",
       "  </tbody>\n",
       "</table>\n",
       "</div>"
      ],
      "text/plain": [
       "   symboling  wheel-base  engine-size  bore stroke  compression-ratio  \\\n",
       "0          3        88.6          130  3.47   2.68                9.0   \n",
       "1          3        88.6          130  3.47   2.68                9.0   \n",
       "2          1        94.5          152  2.68   3.47                9.0   \n",
       "3          2        99.8          109  3.19   3.40               10.0   \n",
       "4          2        99.4          136  3.19   3.40                8.0   \n",
       "\n",
       "  horsepower peak-rpm  city-mpg  highway-mpg  price  \n",
       "0        111     5000        21           27  13495  \n",
       "1        111     5000        21           27  16500  \n",
       "2        154     5000        19           26  16500  \n",
       "3        102     5500        24           30  13950  \n",
       "4        115     5500        18           22  17450  "
      ]
     },
     "execution_count": 6,
     "metadata": {},
     "output_type": "execute_result"
    }
   ],
   "source": [
    "df = df.loc[:,['symboling', 'wheel-base', 'engine-size', 'bore', 'stroke',\n",
    "       'compression-ratio', 'horsepower', 'peak-rpm', 'city-mpg',\n",
    "       'highway-mpg', 'price']]\n",
    "df = df.replace(\"?\", np.nan)\n",
    "df = df.dropna()\n",
    "df.reset_index(drop=True, inplace=True)\n",
    "df.head()"
   ]
  },
  {
   "cell_type": "markdown",
   "id": "d70844d8",
   "metadata": {},
   "source": [
    "# Train the model"
   ]
  },
  {
   "cell_type": "code",
   "execution_count": 7,
   "id": "31c10603",
   "metadata": {},
   "outputs": [],
   "source": [
    "y= df['price']\n",
    "\n",
    "\n",
    "x = df[['symboling', 'wheel-base', 'engine-size', 'bore', 'stroke',\n",
    "       'compression-ratio', 'horsepower', 'peak-rpm', 'city-mpg',\n",
    "       'highway-mpg']]"
   ]
  },
  {
   "cell_type": "code",
   "execution_count": 8,
   "id": "4a39d40f",
   "metadata": {},
   "outputs": [],
   "source": [
    "import statsmodels.api as sm\n",
    "#x = sm.add_constant(x)"
   ]
  },
  {
   "cell_type": "code",
   "execution_count": 9,
   "id": "a75686ff",
   "metadata": {},
   "outputs": [],
   "source": [
    "model =sm.OLS(y.astype(float), x.astype(float)).fit()"
   ]
  },
  {
   "cell_type": "code",
   "execution_count": 10,
   "id": "a43a8338",
   "metadata": {},
   "outputs": [
    {
     "name": "stdout",
     "output_type": "stream",
     "text": [
      "                                 OLS Regression Results                                \n",
      "=======================================================================================\n",
      "Dep. Variable:                  price   R-squared (uncentered):                   0.957\n",
      "Model:                            OLS   Adj. R-squared (uncentered):              0.955\n",
      "Method:                 Least Squares   F-statistic:                              416.0\n",
      "Date:                Mon, 13 May 2024   Prob (F-statistic):                   4.54e-121\n",
      "Time:                        02:06:22   Log-Likelihood:                         -1850.4\n",
      "No. Observations:                 195   AIC:                                      3721.\n",
      "Df Residuals:                     185   BIC:                                      3753.\n",
      "Df Model:                          10                                                  \n",
      "Covariance Type:            nonrobust                                                  \n",
      "=====================================================================================\n",
      "                        coef    std err          t      P>|t|      [0.025      0.975]\n",
      "-------------------------------------------------------------------------------------\n",
      "symboling           -93.6007    230.270     -0.406      0.685    -547.893     360.692\n",
      "wheel-base           93.1162     51.433      1.810      0.072      -8.354     194.587\n",
      "engine-size         131.5777     14.410      9.131      0.000     103.148     160.008\n",
      "bore              -2759.9475   1110.804     -2.485      0.014   -4951.420    -568.475\n",
      "stroke            -3589.9715    801.655     -4.478      0.000   -5171.533   -2008.410\n",
      "compression-ratio   357.0313     75.652      4.719      0.000     207.779     506.284\n",
      "horsepower           36.6821     18.023      2.035      0.043       1.126      72.238\n",
      "peak-rpm              1.0863      0.606      1.793      0.075      -0.109       2.282\n",
      "city-mpg           -302.9823    181.564     -1.669      0.097    -661.184      55.220\n",
      "highway-mpg          93.1240    160.645      0.580      0.563    -223.808     410.056\n",
      "==============================================================================\n",
      "Omnibus:                       22.194   Durbin-Watson:                   0.967\n",
      "Prob(Omnibus):                  0.000   Jarque-Bera (JB):              103.090\n",
      "Skew:                           0.062   Prob(JB):                     4.11e-23\n",
      "Kurtosis:                       6.560   Cond. No.                     2.45e+04\n",
      "==============================================================================\n",
      "\n",
      "Notes:\n",
      "[1] R² is computed without centering (uncentered) since the model does not contain a constant.\n",
      "[2] Standard Errors assume that the covariance matrix of the errors is correctly specified.\n",
      "[3] The condition number is large, 2.45e+04. This might indicate that there are\n",
      "strong multicollinearity or other numerical problems.\n"
     ]
    }
   ],
   "source": [
    "print(model.summary())"
   ]
  },
  {
   "cell_type": "markdown",
   "id": "ec1b17b5",
   "metadata": {},
   "source": [
    "# Calculate Cook distance"
   ]
  },
  {
   "cell_type": "raw",
   "id": "ede58556",
   "metadata": {},
   "source": [
    "Cook's distance is use to estimate of the influence of a data point when performing OLS.\n",
    "Data points with large residuals (outliers) and/or high leverage may distort the outcome and accuracy of a regression. \n",
    "Cook's distance measures the effect of deleting a given observation."
   ]
  },
  {
   "cell_type": "code",
   "execution_count": 11,
   "id": "de85baee",
   "metadata": {},
   "outputs": [],
   "source": [
    "influence = OLSInfluence(model)\n",
    "(c, p) = influence.cooks_distance"
   ]
  },
  {
   "cell_type": "code",
   "execution_count": 12,
   "id": "619fda22",
   "metadata": {},
   "outputs": [],
   "source": [
    "mean_cooks = influence.cooks_distance"
   ]
  },
  {
   "cell_type": "code",
   "execution_count": 13,
   "id": "dea4e715",
   "metadata": {},
   "outputs": [
    {
     "data": {
      "image/png": "[encoded data removed]",
      "text/plain": [
       "<Figure size 800x500 with 1 Axes>"
      ]
     },
     "metadata": {},
     "output_type": "display_data"
    }
   ],
   "source": [
    "# Plot Cook's distance\n",
    "plt.figure(figsize=(8, 5))\n",
    "plt.title(\"Cook's distance plot for the residuals\", fontsize=16)\n",
    "plt.plot(np.arange(len(c)), c, marker='o', linestyle='-')\n",
    "plt.xlabel('Observation index')\n",
    "plt.ylabel(\"Cook's Distance\")\n",
    "plt.grid(True)\n",
    "plt.show()"
   ]
  },
  {
   "cell_type": "code",
   "execution_count": 14,
   "id": "e3b88617",
   "metadata": {},
   "outputs": [
    {
     "data": {
      "text/plain": [
       "0.0007432592946368323"
      ]
     },
     "execution_count": 14,
     "metadata": {},
     "output_type": "execute_result"
    }
   ],
   "source": [
    "mean_cooks = np.mean(c[0])\n",
    "mean_cooks"
   ]
  },
  {
   "cell_type": "code",
   "execution_count": 15,
   "id": "5bffa5b9",
   "metadata": {},
   "outputs": [
    {
     "data": {
      "text/plain": [
       "0.9999999999999934"
      ]
     },
     "execution_count": 15,
     "metadata": {},
     "output_type": "execute_result"
    }
   ],
   "source": [
    "mean_cooks = np.mean(p[0])\n",
    "mean_cooks"
   ]
  },
  {
   "cell_type": "code",
   "execution_count": 16,
   "id": "6c9e8082",
   "metadata": {},
   "outputs": [
    {
     "data": {
      "text/plain": [
       "(array([7.43259295e-04, 1.46692410e-03, 1.10140565e-02, 1.65159437e-03,\n",
       "        1.41598985e-03, 4.50943447e-05, 8.35634677e-04, 2.80954348e-03,\n",
       "        3.87591926e-02, 6.29425857e-03, 6.63143991e-03, 1.72223175e-03,\n",
       "        1.95749868e-03, 1.10665450e-02, 4.19330824e-03, 7.80677258e-02,\n",
       "        2.54839047e-02, 6.08713346e-02, 3.76469686e-04, 6.03419427e-04,\n",
       "        9.38665313e-05, 1.46370971e-05, 2.02411945e-04, 3.46127802e-05,\n",
       "        3.05936698e-07, 1.76910179e-04, 3.10812316e-05, 1.63737492e-03,\n",
       "        3.02525991e-03, 7.85597669e-02, 8.47322467e-05, 7.94871198e-04,\n",
       "        1.69847397e-04, 1.00772642e-09, 1.76701676e-05, 1.27926808e-05,\n",
       "        9.16371855e-04, 5.28958525e-05, 1.45548429e-04, 2.47298506e-04,\n",
       "        2.71086929e-03, 1.84612047e-05, 1.21117757e-03, 1.38641071e-05,\n",
       "        1.20499573e-03, 2.10772283e-02, 7.68177813e-01, 2.59594156e-04,\n",
       "        7.28568827e-07, 6.18230409e-05, 4.37922803e-05, 2.76151768e-04,\n",
       "        2.66040996e-04, 5.47034421e-04, 4.11436500e-05, 4.80062959e-07,\n",
       "        1.58076763e-03, 2.08912298e-04, 2.42883693e-03, 1.62619183e-02,\n",
       "        1.57885060e-03, 1.22604277e-02, 1.42151527e-02, 3.56235533e-02,\n",
       "        7.41635109e-03, 4.22119481e-02, 7.12115396e-06, 8.04134690e-02,\n",
       "        9.85371128e-04, 5.79882871e-06, 9.23511240e-05, 5.38283344e-06,\n",
       "        2.93541430e-04, 2.22750353e-04, 1.07348270e-03, 4.49787381e-03,\n",
       "        5.09218375e-05, 2.96820502e-04, 2.45770405e-03, 1.01891151e-03,\n",
       "        6.32366199e-04, 1.70013979e-03, 1.28257381e-04, 2.83356626e-04,\n",
       "        1.05864159e-06, 1.00960072e-05, 7.30805689e-05, 6.41855389e-05,\n",
       "        1.79101576e-04, 1.03227757e-04, 2.41224450e-04, 4.89696542e-04,\n",
       "        4.46525964e-04, 1.56531820e-04, 2.08066015e-02, 1.71588474e-02,\n",
       "        2.18609567e-02, 9.95103410e-03, 1.35486916e-02, 4.50064239e-03,\n",
       "        7.11011741e-04, 9.13253008e-03, 1.48618792e-03, 2.20117001e-02,\n",
       "        1.76625525e-03, 7.87677168e-05, 9.47107992e-04, 1.15334423e-03,\n",
       "        4.00423723e-03, 2.47302620e-04, 6.40602994e-04, 9.54122861e-05,\n",
       "        2.02411945e-04, 3.46127802e-05, 3.05936698e-07, 2.13295786e-06,\n",
       "        1.60302618e-03, 3.97444928e-03, 1.51805094e-02, 3.83658221e-02,\n",
       "        6.41940065e-02, 1.35683327e-01, 9.65498388e-04, 4.36512450e-04,\n",
       "        8.49209616e-02, 1.06542345e-03, 4.94137750e-03, 5.53273312e-03,\n",
       "        6.46752839e-03, 1.99587183e-03, 9.07865675e-04, 2.27529539e-03,\n",
       "        1.48207929e-03, 5.99979573e-04, 9.43657163e-04, 1.96809637e-07,\n",
       "        2.28646204e-03, 5.62459530e-04, 3.72612001e-03, 6.91467428e-04,\n",
       "        3.21390954e-08, 4.57834034e-06, 3.80359941e-08, 3.61497668e-05,\n",
       "        6.26394545e-05, 3.32016615e-04, 6.03288580e-05, 1.60780005e-05,\n",
       "        5.87479771e-03, 7.13250385e-03, 2.85611116e-03, 3.95589631e-05,\n",
       "        2.71311333e-04, 7.18706304e-05, 1.09710970e-04, 3.26739212e-03,\n",
       "        2.43721452e-03, 7.54088546e-03, 4.62742216e-03, 3.90523626e-03,\n",
       "        1.88031414e-03, 1.43105749e-03, 3.47201835e-03, 6.86272590e-05,\n",
       "        2.77050633e-03, 5.67105139e-05, 8.87532194e-04, 1.47097870e-03,\n",
       "        1.96649378e-02, 2.31952504e-02, 1.85094643e-02, 1.35336008e-02,\n",
       "        3.76246770e-03, 2.71028870e-04, 2.87809180e-03, 1.84019450e-04,\n",
       "        9.24315860e-05, 5.74783535e-06, 4.18949567e-05, 1.57983360e-03,\n",
       "        5.96669809e-05, 1.82266999e-03, 7.54289531e-03, 6.47393082e-04,\n",
       "        5.00101497e-03, 1.88397424e-03, 1.57255377e-04, 4.89259873e-04,\n",
       "        3.33687878e-03, 4.98248793e-03, 1.32389583e-04, 3.26714796e-04,\n",
       "        2.23369239e-03, 4.12074740e-03, 1.30975067e-02]),\n",
       " array([1.        , 1.        , 1.        , 1.        , 1.        ,\n",
       "        1.        , 1.        , 1.        , 0.99999786, 1.        ,\n",
       "        1.        , 1.        , 1.        , 1.        , 1.        ,\n",
       "        0.99994025, 0.99999972, 0.99998145, 1.        , 1.        ,\n",
       "        1.        , 1.        , 1.        , 1.        , 1.        ,\n",
       "        1.        , 1.        , 1.        , 1.        , 0.99993847,\n",
       "        1.        , 1.        , 1.        , 1.        , 1.        ,\n",
       "        1.        , 1.        , 1.        , 1.        , 1.        ,\n",
       "        1.        , 1.        , 1.        , 1.        , 1.        ,\n",
       "        0.99999989, 0.65929259, 1.        , 1.        , 1.        ,\n",
       "        1.        , 1.        , 1.        , 1.        , 1.        ,\n",
       "        1.        , 1.        , 1.        , 1.        , 0.99999997,\n",
       "        1.        , 0.99999999, 0.99999998, 0.99999858, 1.        ,\n",
       "        0.99999677, 1.        , 0.99993142, 1.        , 1.        ,\n",
       "        1.        , 1.        , 1.        , 1.        , 1.        ,\n",
       "        1.        , 1.        , 1.        , 1.        , 1.        ,\n",
       "        1.        , 1.        , 1.        , 1.        , 1.        ,\n",
       "        1.        , 1.        , 1.        , 1.        , 1.        ,\n",
       "        1.        , 1.        , 1.        , 1.        , 0.9999999 ,\n",
       "        0.99999996, 0.99999987, 1.        , 0.99999999, 1.        ,\n",
       "        1.        , 1.        , 1.        , 0.99999986, 1.        ,\n",
       "        1.        , 1.        , 1.        , 1.        , 1.        ,\n",
       "        1.        , 1.        , 1.        , 1.        , 1.        ,\n",
       "        1.        , 1.        , 1.        , 0.99999998, 0.99999796,\n",
       "        0.99997614, 0.99926076, 1.        , 1.        , 0.99991166,\n",
       "        1.        , 1.        , 1.        , 1.        , 1.        ,\n",
       "        1.        , 1.        , 1.        , 1.        , 1.        ,\n",
       "        1.        , 1.        , 1.        , 1.        , 1.        ,\n",
       "        1.        , 1.        , 1.        , 1.        , 1.        ,\n",
       "        1.        , 1.        , 1.        , 1.        , 1.        ,\n",
       "        1.        , 1.        , 1.        , 1.        , 1.        ,\n",
       "        1.        , 1.        , 1.        , 1.        , 1.        ,\n",
       "        1.        , 1.        , 1.        , 1.        , 1.        ,\n",
       "        1.        , 1.        , 1.        , 0.99999992, 0.99999982,\n",
       "        0.99999994, 0.99999999, 1.        , 1.        , 1.        ,\n",
       "        1.        , 1.        , 1.        , 1.        , 1.        ,\n",
       "        1.        , 1.        , 1.        , 1.        , 1.        ,\n",
       "        1.        , 1.        , 1.        , 1.        , 1.        ,\n",
       "        1.        , 1.        , 1.        , 1.        , 0.99999999]))"
      ]
     },
     "execution_count": 16,
     "metadata": {},
     "output_type": "execute_result"
    }
   ],
   "source": [
    "model.get_influence().cooks_distance"
   ]
  },
  {
   "cell_type": "code",
   "execution_count": 17,
   "id": "13d9a48a",
   "metadata": {},
   "outputs": [
    {
     "data": {
      "text/plain": [
       "<statsmodels.stats.outliers_influence.OLSInfluence at 0x1ed6847b850>"
      ]
     },
     "execution_count": 17,
     "metadata": {},
     "output_type": "execute_result"
    }
   ],
   "source": [
    "model.get_influence()"
   ]
  }
 ],
 "metadata": {
  "kernelspec": {
   "display_name": "Python 3 (ipykernel)",
   "language": "python",
   "name": "python3"
  },
  "language_info": {
   "codemirror_mode": {
    "name": "ipython",
    "version": 3
   },
   "file_extension": ".py",
   "mimetype": "text/x-python",
   "name": "python",
   "nbconvert_exporter": "python",
   "pygments_lexer": "ipython3",
   "version": "3.11.5"
  }
 },
 "nbformat": 4,
 "nbformat_minor": 5
}
